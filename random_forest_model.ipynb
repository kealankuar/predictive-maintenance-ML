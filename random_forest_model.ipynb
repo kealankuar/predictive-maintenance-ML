{
 "cells": [
  {
   "cell_type": "code",
   "execution_count": 1,
   "id": "0353d63b-7ef0-4bd1-a042-4e8ce80eb6e4",
   "metadata": {},
   "outputs": [
    {
     "name": "stdout",
     "output_type": "stream",
     "text": [
      "X_train shape: (8000, 8)\n",
      "X_test shape: (2000, 8)\n",
      "y_train shape: (8000,)\n",
      "y_test shape: (2000,)\n"
     ]
    }
   ],
   "source": [
    "import pickle\n",
    "\n",
    "# Load preprocessed data from the pickle file\n",
    "with open('preprocessed_data.pkl', 'rb') as f:\n",
    "    X_train, X_test, y_train, y_test = pickle.load(f)\n",
    "\n",
    "# Verify the shapes\n",
    "print(\"X_train shape:\", X_train.shape)\n",
    "print(\"X_test shape:\", X_test.shape)\n",
    "print(\"y_train shape:\", y_train.shape)\n",
    "print(\"y_test shape:\", y_test.shape)\n"
   ]
  },
  {
   "cell_type": "code",
   "execution_count": 2,
   "id": "a25bc4f2-ee95-423c-b630-a7293d6148d1",
   "metadata": {},
   "outputs": [
    {
     "name": "stdout",
     "output_type": "stream",
     "text": [
      "RandomForest Classification Report:\n",
      "              precision    recall  f1-score   support\n",
      "\n",
      "           0       0.98      1.00      0.99      1939\n",
      "           1       0.92      0.38      0.53        61\n",
      "\n",
      "    accuracy                           0.98      2000\n",
      "   macro avg       0.95      0.69      0.76      2000\n",
      "weighted avg       0.98      0.98      0.98      2000\n",
      "\n"
     ]
    }
   ],
   "source": [
    "from sklearn.ensemble import RandomForestClassifier\n",
    "from sklearn.metrics import classification_report\n",
    "\n",
    "# Initialize the RandomForestClassifier\n",
    "rf_model = RandomForestClassifier(random_state=42, n_estimators=100, class_weight='balanced')\n",
    "\n",
    "# Train the model on the training data\n",
    "rf_model.fit(X_train, y_train)\n",
    "\n",
    "# Predict on the test set\n",
    "y_pred_rf = rf_model.predict(X_test)\n",
    "\n",
    "# Evaluate the model performance\n",
    "print(\"RandomForest Classification Report:\")\n",
    "print(classification_report(y_test, y_pred_rf))\n"
   ]
  },
  {
   "cell_type": "code",
   "execution_count": 3,
   "id": "9a32eeed-18a0-4fee-8043-c6cd9223b5cb",
   "metadata": {},
   "outputs": [
    {
     "name": "stdout",
     "output_type": "stream",
     "text": [
      "After SMOTE, training set shape: (15444, 8)\n",
      "RandomForest with SMOTE Classification Report:\n",
      "              precision    recall  f1-score   support\n",
      "\n",
      "           0       0.99      0.97      0.98      1939\n",
      "           1       0.48      0.75      0.59        61\n",
      "\n",
      "    accuracy                           0.97      2000\n",
      "   macro avg       0.74      0.86      0.79      2000\n",
      "weighted avg       0.98      0.97      0.97      2000\n",
      "\n"
     ]
    }
   ],
   "source": [
    "from imblearn.over_sampling import SMOTE\n",
    "\n",
    "# Apply SMOTE to the training data\n",
    "smote = SMOTE(random_state=42)\n",
    "X_train_smote, y_train_smote = smote.fit_resample(X_train, y_train)\n",
    "\n",
    "print(\"After SMOTE, training set shape:\", X_train_smote.shape)\n",
    "\n",
    "# Train RandomForest on SMOTE-resampled data\n",
    "rf_model_smote = RandomForestClassifier(random_state=42, n_estimators=100, class_weight='balanced')\n",
    "rf_model_smote.fit(X_train_smote, y_train_smote)\n",
    "\n",
    "# Predict on the original test set\n",
    "y_pred_rf_smote = rf_model_smote.predict(X_test)\n",
    "\n",
    "# Evaluate performance\n",
    "print(\"RandomForest with SMOTE Classification Report:\")\n",
    "print(classification_report(y_test, y_pred_rf_smote))\n"
   ]
  },
  {
   "cell_type": "code",
   "execution_count": 6,
   "id": "32689ab1-3e22-4420-839c-4336b6e356b9",
   "metadata": {},
   "outputs": [
    {
     "name": "stdout",
     "output_type": "stream",
     "text": [
      "Fitting 5 folds for each of 24 candidates, totalling 120 fits\n",
      "Best parameters (with SMOTE): {'rf__max_depth': 20, 'rf__min_samples_leaf': 1, 'rf__min_samples_split': 2, 'rf__n_estimators': 200}\n",
      "Best cross-validation F1 score (with SMOTE): 0.6181977626439449\n"
     ]
    }
   ],
   "source": [
    "from imblearn.pipeline import Pipeline\n",
    "from imblearn.over_sampling import SMOTE\n",
    "from sklearn.ensemble import RandomForestClassifier\n",
    "from sklearn.model_selection import GridSearchCV\n",
    "from sklearn.metrics import classification_report\n",
    "\n",
    "# Define the pipeline steps\n",
    "pipeline = Pipeline([\n",
    "    ('smote', SMOTE(random_state=42)),\n",
    "    ('rf', RandomForestClassifier(random_state=42, class_weight='balanced'))\n",
    "])\n",
    "\n",
    "param_grid_pipeline = {\n",
    "    'rf__n_estimators': [100, 200],\n",
    "    'rf__max_depth': [None, 10, 20],\n",
    "    'rf__min_samples_split': [2, 5],\n",
    "    'rf__min_samples_leaf': [1, 2]\n",
    "}\n",
    "\n",
    "grid_search_pipeline = GridSearchCV(\n",
    "    estimator=pipeline,\n",
    "    param_grid=param_grid_pipeline,\n",
    "    cv=5,\n",
    "    scoring='f1',  # F1 is a good balance between precision and recall for imbalanced data\n",
    "    n_jobs=-1,\n",
    "    verbose=2\n",
    ")\n",
    "\n",
    "grid_search_pipeline.fit(X_train, y_train)\n",
    "\n",
    "print(\"Best parameters (with SMOTE):\", grid_search_pipeline.best_params_)\n",
    "print(\"Best cross-validation F1 score (with SMOTE):\", grid_search_pipeline.best_score_)\n"
   ]
  },
  {
   "cell_type": "code",
   "execution_count": 7,
   "id": "92a6f92a-1d7b-46d3-9048-9c19230b8bf6",
   "metadata": {},
   "outputs": [
    {
     "name": "stdout",
     "output_type": "stream",
     "text": [
      "Classification Report for Best RandomForest Model (with SMOTE):\n",
      "              precision    recall  f1-score   support\n",
      "\n",
      "           0       0.99      0.98      0.98      1939\n",
      "           1       0.49      0.75      0.59        61\n",
      "\n",
      "    accuracy                           0.97      2000\n",
      "   macro avg       0.74      0.86      0.79      2000\n",
      "weighted avg       0.98      0.97      0.97      2000\n",
      "\n"
     ]
    }
   ],
   "source": [
    "# Get the best RandomForest model with SMOTE from the grid search\n",
    "best_rf_pipeline = grid_search_pipeline.best_estimator_\n",
    "\n",
    "# Predict on the test set\n",
    "y_pred_best_rf_pipeline = best_rf_pipeline.predict(X_test)\n",
    "\n",
    "# Print the classification report for evaluation\n",
    "print(\"Classification Report for Best RandomForest Model (with SMOTE):\")\n",
    "print(classification_report(y_test, y_pred_best_rf_pipeline))\n"
   ]
  },
  {
   "cell_type": "code",
   "execution_count": null,
   "id": "cdf36e18-9312-4303-a947-5913c06a3613",
   "metadata": {},
   "outputs": [],
   "source": []
  }
 ],
 "metadata": {
  "kernelspec": {
   "display_name": "Python 3 (ipykernel)",
   "language": "python",
   "name": "python3"
  },
  "language_info": {
   "codemirror_mode": {
    "name": "ipython",
    "version": 3
   },
   "file_extension": ".py",
   "mimetype": "text/x-python",
   "name": "python",
   "nbconvert_exporter": "python",
   "pygments_lexer": "ipython3",
   "version": "3.12.7"
  }
 },
 "nbformat": 4,
 "nbformat_minor": 5
}
