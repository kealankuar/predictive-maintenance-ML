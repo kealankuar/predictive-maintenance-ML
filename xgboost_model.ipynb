{
 "cells": [
  {
   "cell_type": "code",
   "execution_count": 1,
   "id": "ad605ead-adf5-47a6-9afb-ce7c7eaaa6dd",
   "metadata": {},
   "outputs": [
    {
     "name": "stdout",
     "output_type": "stream",
     "text": [
      "X_train shape: (8000, 8)\n",
      "X_test shape: (2000, 8)\n"
     ]
    }
   ],
   "source": [
    "import pickle\n",
    "\n",
    "# Load preprocessed data from pickle file\n",
    "with open('preprocessed_data.pkl', 'rb') as f:\n",
    "    X_train, X_test, y_train, y_test = pickle.load(f)\n",
    "\n",
    "# Verify the shapes\n",
    "print(\"X_train shape:\", X_train.shape)\n",
    "print(\"X_test shape:\", X_test.shape)\n"
   ]
  },
  {
   "cell_type": "code",
   "execution_count": 4,
   "id": "ad877daf-27bc-468d-8780-66ed5c78cd54",
   "metadata": {},
   "outputs": [],
   "source": [
    "# Clean column names by removing or replacing invalid characters\n",
    "def clean_column_names(df):\n",
    "    df = df.copy()\n",
    "    df.columns = [col.replace(' ', '_').replace('[', '').replace(']', '').replace('<','') for col in df.columns]\n",
    "    return df\n",
    "\n",
    "X_train = clean_column_names(X_train)\n",
    "X_test = clean_column_names(X_test)\n"
   ]
  },
  {
   "cell_type": "code",
   "execution_count": 7,
   "id": "b4528ff7-0ac3-4ae9-8256-2c26d390f6b3",
   "metadata": {},
   "outputs": [],
   "source": [
    "param_grid_xgb_extended = {\n",
    "    'xgb__n_estimators': [100, 200, 300],\n",
    "    'xgb__max_depth': [4, 6, 8],\n",
    "    'xgb__learning_rate': [0.01, 0.1, 0.2],\n",
    "    'xgb__subsample': [0.8, 1.0],\n",
    "    'xgb__colsample_bytree': [0.8, 1.0],\n",
    "    'xgb__reg_alpha': [0, 0.1, 0.5],\n",
    "    'xgb__reg_lambda': [1, 1.5, 2.0]\n",
    "}\n"
   ]
  },
  {
   "cell_type": "code",
   "execution_count": 8,
   "id": "5c13518e-a1e2-46bb-b718-81e8b39c1b75",
   "metadata": {},
   "outputs": [
    {
     "name": "stdout",
     "output_type": "stream",
     "text": [
      "Fitting 5 folds for each of 972 candidates, totalling 4860 fits\n"
     ]
    },
    {
     "name": "stderr",
     "output_type": "stream",
     "text": [
      "C:\\Users\\kealankuar.wh\\anaconda3\\Lib\\site-packages\\xgboost\\core.py:158: UserWarning: [11:45:16] WARNING: C:\\buildkite-agent\\builds\\buildkite-windows-cpu-autoscaling-group-i-08cbc0333d8d4aae1-1\\xgboost\\xgboost-ci-windows\\src\\learner.cc:740: \n",
      "Parameters: { \"use_label_encoder\" } are not used.\n",
      "\n",
      "  warnings.warn(smsg, UserWarning)\n"
     ]
    },
    {
     "name": "stdout",
     "output_type": "stream",
     "text": [
      "Best parameters (extended): {'xgb__colsample_bytree': 1.0, 'xgb__learning_rate': 0.2, 'xgb__max_depth': 6, 'xgb__n_estimators': 300, 'xgb__reg_alpha': 0, 'xgb__reg_lambda': 2.0, 'xgb__subsample': 1.0}\n",
      "Best cross-validation F1 score (extended): 0.70575134061581\n",
      "Classification Report for Tuned XGBoost (with SMOTE):\n",
      "              precision    recall  f1-score   support\n",
      "\n",
      "           0       0.99      0.98      0.99      1939\n",
      "           1       0.56      0.79      0.66        61\n",
      "\n",
      "    accuracy                           0.97      2000\n",
      "   macro avg       0.78      0.88      0.82      2000\n",
      "weighted avg       0.98      0.97      0.98      2000\n",
      "\n"
     ]
    }
   ],
   "source": [
    "from imblearn.pipeline import Pipeline\n",
    "from imblearn.over_sampling import SMOTE\n",
    "from xgboost import XGBClassifier\n",
    "from sklearn.model_selection import GridSearchCV\n",
    "from sklearn.metrics import classification_report\n",
    "\n",
    "# Define the pipeline with SMOTE and XGBoost\n",
    "pipeline_xgb_extended = Pipeline([\n",
    "    ('smote', SMOTE(random_state=42)),\n",
    "    ('xgb', XGBClassifier(random_state=42, use_label_encoder=False, eval_metric='logloss'))\n",
    "])\n",
    "\n",
    "# Set up GridSearchCV with the expanded parameter grid\n",
    "grid_search_xgb_ext = GridSearchCV(\n",
    "    estimator=pipeline_xgb_extended,\n",
    "    param_grid=param_grid_xgb_extended,\n",
    "    cv=5,\n",
    "    scoring='f1',\n",
    "    n_jobs=-1,\n",
    "    verbose=2\n",
    ")\n",
    "\n",
    "# Fit the grid search on training data\n",
    "grid_search_xgb_ext.fit(X_train, y_train)\n",
    "\n",
    "# Output the best parameters and best score\n",
    "print(\"Best parameters (extended):\", grid_search_xgb_ext.best_params_)\n",
    "print(\"Best cross-validation F1 score (extended):\", grid_search_xgb_ext.best_score_)\n",
    "\n",
    "# Evaluate on the test set\n",
    "best_xgb_ext = grid_search_xgb_ext.best_estimator_\n",
    "y_pred_xgb_ext = best_xgb_ext.predict(X_test)\n",
    "print(\"Classification Report for Tuned XGBoost (with SMOTE):\")\n",
    "print(classification_report(y_test, y_pred_xgb_ext))\n"
   ]
  },
  {
   "cell_type": "code",
   "execution_count": 9,
   "id": "5d102a6d-18e9-4e60-901d-a2f1bf8e1092",
   "metadata": {},
   "outputs": [
    {
     "name": "stdout",
     "output_type": "stream",
     "text": [
      "Fitting 5 folds for each of 18 candidates, totalling 90 fits\n"
     ]
    },
    {
     "name": "stderr",
     "output_type": "stream",
     "text": [
      "C:\\Users\\kealankuar.wh\\anaconda3\\Lib\\site-packages\\xgboost\\core.py:158: UserWarning: [13:40:08] WARNING: C:\\buildkite-agent\\builds\\buildkite-windows-cpu-autoscaling-group-i-08cbc0333d8d4aae1-1\\xgboost\\xgboost-ci-windows\\src\\learner.cc:740: \n",
      "Parameters: { \"use_label_encoder\" } are not used.\n",
      "\n",
      "  warnings.warn(smsg, UserWarning)\n"
     ]
    },
    {
     "name": "stdout",
     "output_type": "stream",
     "text": [
      "Best parameters with SMOTETomek: {'xgb__learning_rate': 0.2, 'xgb__max_depth': 6, 'xgb__n_estimators': 200}\n",
      "Best cross-validation F1 score: 0.7000092647740057\n",
      "Classification Report for XGBoost with SMOTETomek:\n",
      "              precision    recall  f1-score   support\n",
      "\n",
      "           0       0.99      0.98      0.98      1939\n",
      "           1       0.52      0.75      0.61        61\n",
      "\n",
      "    accuracy                           0.97      2000\n",
      "   macro avg       0.75      0.87      0.80      2000\n",
      "weighted avg       0.98      0.97      0.97      2000\n",
      "\n"
     ]
    }
   ],
   "source": [
    "from imblearn.combine import SMOTETomek\n",
    "from imblearn.pipeline import Pipeline\n",
    "from xgboost import XGBClassifier\n",
    "from sklearn.model_selection import GridSearchCV\n",
    "from sklearn.metrics import classification_report\n",
    "\n",
    "# Define the pipeline with SMOTETomek and XGBoost\n",
    "pipeline_xgb_stm = Pipeline([\n",
    "    ('smotetomek', SMOTETomek(random_state=42)),\n",
    "    ('xgb', XGBClassifier(random_state=42, use_label_encoder=False, eval_metric='logloss'))\n",
    "])\n",
    "\n",
    "# Define an example parameter grid (you can expand it as needed)\n",
    "param_grid_xgb_stm = {\n",
    "    'xgb__n_estimators': [100, 200],\n",
    "    'xgb__max_depth': [4, 6, 8],\n",
    "    'xgb__learning_rate': [0.01, 0.1, 0.2]\n",
    "}\n",
    "\n",
    "# Set up GridSearchCV\n",
    "grid_search_xgb_stm = GridSearchCV(\n",
    "    estimator=pipeline_xgb_stm,\n",
    "    param_grid=param_grid_xgb_stm,\n",
    "    cv=5,\n",
    "    scoring='f1',\n",
    "    n_jobs=-1,\n",
    "    verbose=2\n",
    ")\n",
    "\n",
    "# Fit grid search on training data (assuming X_train and y_train are already loaded)\n",
    "grid_search_xgb_stm.fit(X_train, y_train)\n",
    "\n",
    "# Output the best parameters and cross-validation score\n",
    "print(\"Best parameters with SMOTETomek:\", grid_search_xgb_stm.best_params_)\n",
    "print(\"Best cross-validation F1 score:\", grid_search_xgb_stm.best_score_)\n",
    "\n",
    "# Evaluate on the test set\n",
    "best_xgb_stm = grid_search_xgb_stm.best_estimator_\n",
    "y_pred_xgb_stm = best_xgb_stm.predict(X_test)\n",
    "print(\"Classification Report for XGBoost with SMOTETomek:\")\n",
    "print(classification_report(y_test, y_pred_xgb_stm))\n"
   ]
  },
  {
   "cell_type": "code",
   "execution_count": null,
   "id": "4bd85954-06b2-4c9e-85ae-78d37a6affbd",
   "metadata": {},
   "outputs": [],
   "source": []
  }
 ],
 "metadata": {
  "kernelspec": {
   "display_name": "Python 3 (ipykernel)",
   "language": "python",
   "name": "python3"
  },
  "language_info": {
   "codemirror_mode": {
    "name": "ipython",
    "version": 3
   },
   "file_extension": ".py",
   "mimetype": "text/x-python",
   "name": "python",
   "nbconvert_exporter": "python",
   "pygments_lexer": "ipython3",
   "version": "3.12.7"
  }
 },
 "nbformat": 4,
 "nbformat_minor": 5
}
